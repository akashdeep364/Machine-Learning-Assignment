{
 "cells": [
  {
   "cell_type": "markdown",
   "metadata": {},
   "source": [
    "# Assignment_23"
   ]
  },
  {
   "cell_type": "markdown",
   "metadata": {},
   "source": [
    "# 1. What are the key reasons for reducing the dimensionality of a dataset? What are the major\n",
    "disadvantages?"
   ]
  },
  {
   "cell_type": "markdown",
   "metadata": {},
   "source": [
    "In machine learning classification problems, there are often too many factors on the basis of which the\n",
    "final classification is done. These factors are basically variables called features. The higher the number\n",
    "of features, the harder it gets to visualize the training set and then work on it. Sometimes, most of \n",
    "these features are correlated, and hence redundant. This is where dimensionality reduction algorithms come\n",
    "into play. Dimensionality reduction is the process of reducing the number of random variables under \n",
    "consideration, by obtaining a set of principal variables. It can be divided into feature selection and \n",
    "feature extraction.\n",
    "Basically, it may lead to some amount of data loss.\n",
    "Although, PCA(Principal Component Analysis) tends to find linear correlations between variables, which is\n",
    "sometimes undesirable.\n",
    "Also, PCA fails in cases where mean and covariance are not enough to define datasets.\n",
    "Further, we may not know how many principal components to keep- in practice, some thumb rules are applied."
   ]
  },
  {
   "cell_type": "markdown",
   "metadata": {},
   "source": [
    "# 2. What is the dimensionality curse?"
   ]
  },
  {
   "cell_type": "markdown",
   "metadata": {},
   "source": [
    "The curse of dimensionality basically means that the error increases with the increase in the number of \n",
    "features. It refers to the fact that algorithms are harder to design in high dimensions and often have a\n",
    "running time exponential in the dimensions. A higher number of dimensions theoretically allow more \n",
    "information to be stored, but practically it rarely helps due to the higher possibility of noise and \n",
    "redundancy in the real-world data."
   ]
  },
  {
   "cell_type": "markdown",
   "metadata": {},
   "source": [
    "# 3. Tell if its possible to reverse the process of reducing the dimensionality of a dataset? If so, how\n",
    "can you go about doing it? If not, what is the reason?"
   ]
  },
  {
   "cell_type": "markdown",
   "metadata": {},
   "source": [
    "Once a dataset's dimensionality has been reduced using one of the algorithms we discussed, it is almost\n",
    "always impossible to perfectly reverse the operation, because some information gets lost during \n",
    "dimensionality reduction.Moreover, while some algorithms (such as PCA) have a simple reverse \n",
    "transformation procedure that can reconstruct a dataset relatively similar to the original, other\n",
    "algorithms (such as T-SNE) do not\n",
    "Dimensionality reduction (compression of information) is reversible in auto-encoders. Auto-encoder is \n",
    "regular neural network with bottleneck layer in the middle. You have for instance 20 inputs in the first \n",
    "layer, 10 neurons in the middle layer and again 20 neurons in the last layer. When you train such network \n",
    "you force it to compress information to 10 neurons and then uncompress again minimizing error in the last\n",
    "layer(desired output vector equals input vector). When you use well known Back-propagation algorithm to\n",
    "train such network it performs PCA - Principal Component Analysis. PCA returns uncorrelated features. \n",
    "By using more sophisticated algorithm to train auto-encoder you can make it perform nonlinear ICA -\n",
    "Independent Component Analysis. ICA returns statistically independent features. This training algorithm \n",
    "searches for low complexity neural networks with high generalization capability. As a byproduct of \n",
    "regularization you get ICA."
   ]
  },
  {
   "cell_type": "markdown",
   "metadata": {},
   "source": [
    "# 4. Can PCA be utilized to reduce the dimensionality of a nonlinear dataset with a lot of variables?"
   ]
  },
  {
   "cell_type": "markdown",
   "metadata": {},
   "source": [
    "PCA can at least get rid of useless dimensions, which will significantly reduce the demensionality of most \n",
    "datasets. However, reducing demensionality of datasets without useless dimensions will loose too much info.\n",
    "\"You want to unroll the swiss roll, not squash it\"\n",
    "OF course, you can still do a PCA computation on nonlinear data - but the results will be meaningless,\n",
    "beyond decomposing to the dominant linear modes and provided a global linear representation of the spread\n",
    "of the data.  "
   ]
  },
  {
   "cell_type": "markdown",
   "metadata": {},
   "source": [
    "# 6. Will you use vanilla PCA, incremental PCA, randomized PCA, or kernel PCA in which situations?"
   ]
  },
  {
   "cell_type": "markdown",
   "metadata": {},
   "source": [
    "+ Vanilla: works only if the dataset fits in memory\n",
    "+ Incremental: useful for large datasets that don't fit in memory, but is slower than regular. Also useful \n",
    "              for online tasks, when you apply PCA on the fly\n",
    "+ Randomized: useful when you want to considerably reduce dimensionality and the dataset fits in memory\n",
    "+ Kernel: Useful for nonlinear datasets"
   ]
  },
  {
   "cell_type": "markdown",
   "metadata": {},
   "source": [
    "# 7. How do you assess a dimensionality reduction algorithm's success on your dataset?"
   ]
  },
  {
   "cell_type": "markdown",
   "metadata": {},
   "source": [
    "Intuitively, a dimensionality reduction algorithm performs well if it eliminates a lot of dimensions from \n",
    "the dataset without losing too much information.\n",
    "One way to measure this is to apply the reverse transformation and measure the reconstruction error. \n",
    "However, not all dimensionality reduction algorithms provide a reverse transformation.\n",
    "Alternatively, if you are using dimensionality reduction as a preprocessing step before another Machine \n",
    "Learning algorithm (e.g., a Random Forest classifier), then you can simply measure the performance of that\n",
    "second algorithm; if dimensionality reduction did not lose too much information, then the algorithm should\n",
    "perform just as well as when using the original dataset.\n"
   ]
  },
  {
   "cell_type": "markdown",
   "metadata": {},
   "source": [
    "# 8. Is it logical to use two different dimensionality reduction algorithms in a chain?"
   ]
  },
  {
   "cell_type": "markdown",
   "metadata": {},
   "source": [
    "You can chain two different algorithms, such as PCA to quickly get rid of unnecessary data and then LLE(Locall Linear Embedded)\n",
    "that works slower. This will likely yield the same performance, but with faster results."
   ]
  }
 ],
 "metadata": {
  "kernelspec": {
   "display_name": "Python 3",
   "language": "python",
   "name": "python3"
  },
  "language_info": {
   "codemirror_mode": {
    "name": "ipython",
    "version": 3
   },
   "file_extension": ".py",
   "mimetype": "text/x-python",
   "name": "python",
   "nbconvert_exporter": "python",
   "pygments_lexer": "ipython3",
   "version": "3.8.8"
  }
 },
 "nbformat": 4,
 "nbformat_minor": 4
}
