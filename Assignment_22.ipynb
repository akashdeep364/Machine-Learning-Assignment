{
 "cells": [
  {
   "cell_type": "markdown",
   "metadata": {},
   "source": [
    "# Assignment_22\n",
    "\n",
    "### 1. Is there any way to combine five different models that have all been trained on the same training data and have all achieved 95 percent precision? If so, how can you go about doing it? If not, what is the reason?\n",
    "\n",
    "sol.\n",
    "\n",
    "try combining them into a voting ensemble, which will often give you even better results. It works better if the models are very different\n",
    "    \n",
    "### 2. What's the difference between hard voting classifiers and soft voting classifiers?\n",
    "sol.\n",
    "\n",
    "In hard voting (also known as majority voting), every individual classifier votes for a class, and the majority wins. In statistical terms, the predicted target label of the ensemble is the mode of the distribution of individually predicted labels.\n",
    "In soft voting, every individual classifier provides a probability value that a specific data point belongs to a particular target class. The predictions are weighted by the classifier's importance and summed up. Then the target label with the greatest sum of weighted probabilities wins the vote.\n",
    "\n",
    "### 3. Is it possible to distribute a bagging ensemble's training through several servers to speed up the process? Pasting ensembles, boosting ensembles, Random Forests, and stacking ensembles are all options.\n",
    "sol.\n",
    "\n",
    "### 4. What is the advantage of evaluating out of the bag?\n",
    "sol.\n",
    "the advantage of evaluating out of bag are that the model is never trained on the that data so it is used for evaluating the accuracy of the model.\n",
    "so,we do not need of cross validation and can use out of bag instance for that purpose.\n",
    "\n",
    "\n",
    "### 5. What distinguishes Extra-Trees from ordinary Random Forests? What good would this extra randomness do? Is it true that Extra-Tree Random Forests are slower or faster than normal Random Forests?\n",
    "sol.\n",
    "\n",
    "\n",
    "### 6. Which hyperparameters and how do you tweak if your AdaBoost ensemble underfits the training data?\n",
    "sol.\n",
    "try increasing the number of estimators or reducing the regularization hyperparameters of the base estimator, also try slightly increasing the learning rate.\n",
    "\n",
    "### 7. Should you raise or decrease the learning rate if your Gradient Boosting ensemble overfits the training set?\n",
    "sol.\n",
    "decreasing the learning rate, early stopping to find the right number of predictors\n",
    "\n"
   ]
  }
 ],
 "metadata": {
  "kernelspec": {
   "display_name": "Python 3",
   "language": "python",
   "name": "python3"
  },
  "language_info": {
   "codemirror_mode": {
    "name": "ipython",
    "version": 3
   },
   "file_extension": ".py",
   "mimetype": "text/x-python",
   "name": "python",
   "nbconvert_exporter": "python",
   "pygments_lexer": "ipython3",
   "version": "3.8.8"
  }
 },
 "nbformat": 4,
 "nbformat_minor": 2
}
